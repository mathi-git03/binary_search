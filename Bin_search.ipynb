{
 "cells": [
  {
   "cell_type": "markdown",
   "id": "3fc5f47c",
   "metadata": {},
   "source": [
    "## Binary search"
   ]
  },
  {
   "cell_type": "code",
   "execution_count": 5,
   "id": "ac6535e7",
   "metadata": {},
   "outputs": [
    {
     "name": "stdout",
     "output_type": "stream",
     "text": [
      "Enter the num to be search: 6\n",
      "found at location 5\n"
     ]
    }
   ],
   "source": [
    "lst = [1,2,3,4,5,6,7,8,9,10]\n",
    "lst.sort()\n",
    "first = 0\n",
    "last = len(lst) - 1\n",
    "mid = (first+last)//2\n",
    "item = int(input(\"Enter the num to be search: \"))\n",
    "found = False\n",
    "while(first <= last and not found):\n",
    "    mid = (first + last) // 2\n",
    "    if lst[mid] == item :\n",
    "        print(f'found at location {mid}')\n",
    "        found = True\n",
    "    else:\n",
    "        if item < lst[mid]:\n",
    "            last = mid - 1\n",
    "        else:\n",
    "            first = mid + 1\n",
    "\n",
    "if found == False:\n",
    "    print(\"Number not found\")"
   ]
  },
  {
   "cell_type": "code",
   "execution_count": null,
   "id": "479c753f",
   "metadata": {},
   "outputs": [],
   "source": []
  },
  {
   "cell_type": "code",
   "execution_count": null,
   "id": "c9c7788f",
   "metadata": {},
   "outputs": [],
   "source": []
  }
 ],
 "metadata": {
  "kernelspec": {
   "display_name": "Python 3",
   "language": "python",
   "name": "python3"
  },
  "language_info": {
   "codemirror_mode": {
    "name": "ipython",
    "version": 3
   },
   "file_extension": ".py",
   "mimetype": "text/x-python",
   "name": "python",
   "nbconvert_exporter": "python",
   "pygments_lexer": "ipython3",
   "version": "3.8.8"
  }
 },
 "nbformat": 4,
 "nbformat_minor": 5
}
